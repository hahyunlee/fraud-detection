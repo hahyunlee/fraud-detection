{
 "cells": [
  {
   "cell_type": "code",
   "execution_count": 16,
   "metadata": {},
   "outputs": [],
   "source": [
    "import pickle\n",
    "import json\n",
    "from datetime import datetime\n",
    "#from flask import Flask, render_template, request, jsonify, Response\n",
    "import pandas as pd\n",
    "import requests\n",
    "from pymongo import MongoClient, UpdateOne\n",
    "import time\n",
    "from main import *\n",
    "from sklearn.ensemble import RandomForestClassifier\n",
    "#from model import\n",
    "import numpy as np"
   ]
  },
  {
   "cell_type": "code",
   "execution_count": 18,
   "metadata": {},
   "outputs": [],
   "source": [
    "#app = Flask(__name__)\n",
    "\n",
    "\n",
    "def trained_model_outputs(model, json_string):\n",
    "    df0 = pd.DataFrame.from_dict([json_string])\n",
    "    #df0 = pd.read_json(json.dumps(json_string))\n",
    "    #df0 = pd.read_json(json_string))\n",
    "    df = pipeline(df0)\n",
    "    varz = ['body_length','event_length','previous_payouts','channels','delivery_method','name_length','user_age','user_type']\n",
    "    test = df[varz]\n",
    "    probability = model.predict_proba(test)[0][1]\n",
    "    prediction = model.predict(test)[0]\n",
    "    return probability, prediction"
   ]
  },
  {
   "cell_type": "code",
   "execution_count": 22,
   "metadata": {},
   "outputs": [
    {
     "name": "stdout",
     "output_type": "stream",
     "text": [
      "0.0 0 Green\n",
      "<class 'numpy.float64'> <class 'numpy.int64'> <class 'str'>\n",
      "0.29 0 Green\n",
      "<class 'numpy.float64'> <class 'numpy.int64'> <class 'str'>\n",
      "0.29 0 Green\n",
      "<class 'numpy.float64'> <class 'numpy.int64'> <class 'str'>\n",
      "0.29 0 Green\n",
      "<class 'numpy.float64'> <class 'numpy.int64'> <class 'str'>\n",
      "0.78 1 Yellow\n",
      "<class 'numpy.float64'> <class 'numpy.int64'> <class 'str'>\n",
      "0.01 0 Green\n",
      "<class 'numpy.float64'> <class 'numpy.int64'> <class 'str'>\n"
     ]
    }
   ],
   "source": [
    "#app.run(host='0.0.0.0', port=3333, debug=True)\n",
    "# unpickle\n",
    "with open('trained_model.pkl', 'rb') as f:\n",
    "    model = pickle.load(f)\n",
    "hi_threshold = .95\n",
    "sequence_number = 0\n",
    "client = MongoClient('mongodb://localhost:27017/')\n",
    "db = client['testing_fraud']\n",
    "#db.collection.remove({''})\n",
    "for x in db.collection.find():\n",
    "    x[\"_id\"]=0\n",
    "    _id = x[\"object_id\"]\n",
    "# api_key = 'vYm9mTUuspeyAWH1v-acfoTlck-tCxwTw9YfCynC'\n",
    "# url = 'https://hxobin8em5.execute-api.us-west-2.amazonaws.com/api/'\n",
    "# response = requests.post(\n",
    "#     url, json={'api_key': api_key, 'sequence_number': sequence_number})\n",
    "# raw_data = response.json()\n",
    "\n",
    "# if raw_data['_next_sequence_number'] != sequence_number:\n",
    "# sequence_number = raw_data['_next_sequence_number']\n",
    "    probability, prediction = trained_model_outputs(model,x)\n",
    "    if prediction == 1:\n",
    "        _color = 'Yellow'\n",
    "        if probability > hi_threshold:\n",
    "            _color = 'Red'\n",
    "    else:\n",
    "        _color = 'Green'\n",
    "#     x['probability'] = probability\n",
    "#     x['model_label'] = prediction\n",
    "#     x['prediction'] = _color\n",
    "    print(probability,prediction,_color)\n",
    "    print(type(probability),type(prediction),type(_color))\n",
    "#df = pd.DataFrame.from_dict(raw_data['data'][0],orient = 'index').T\n",
    "    \n",
    "    db.collection.bulk_write([\n",
    "        UpdateOne({ \"object_id\" : _id }, { \"$set\": { \"probability\" : probability}}),\n",
    "        #\n",
    "        UpdateOne({ \"object_id\" : _id }, { \"$set\": {\"prediction\" : _color} })\n",
    "                           ])\n",
    "#print(sequence_number, raw_data['data'][0].keys())"
   ]
  },
  {
   "cell_type": "code",
   "execution_count": null,
   "metadata": {},
   "outputs": [],
   "source": []
  }
 ],
 "metadata": {
  "kernelspec": {
   "display_name": "Python 3",
   "language": "python",
   "name": "python3"
  },
  "language_info": {
   "codemirror_mode": {
    "name": "ipython",
    "version": 3
   },
   "file_extension": ".py",
   "mimetype": "text/x-python",
   "name": "python",
   "nbconvert_exporter": "python",
   "pygments_lexer": "ipython3",
   "version": "3.6.5"
  }
 },
 "nbformat": 4,
 "nbformat_minor": 2
}
